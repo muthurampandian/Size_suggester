{
 "cells": [
  {
   "cell_type": "code",
   "execution_count": 4,
   "metadata": {},
   "outputs": [
    {
     "name": "stdout",
     "output_type": "stream",
     "text": [
      " * Serving Flask app '__main__'\n",
      " * Debug mode: off\n"
     ]
    },
    {
     "name": "stderr",
     "output_type": "stream",
     "text": [
      "WARNING: This is a development server. Do not use it in a production deployment. Use a production WSGI server instead.\n",
      " * Running on http://127.0.0.1:5000\n",
      "Press CTRL+C to quit\n",
      "[2024-09-25 19:24:26,647] ERROR in app: Exception on /date [GET]\n",
      "Traceback (most recent call last):\n",
      "  File \"c:\\Users\\ramkumar\\AppData\\Local\\Programs\\Python\\Python310\\lib\\site-packages\\flask\\app.py\", line 1473, in wsgi_app\n",
      "    response = self.full_dispatch_request()\n",
      "  File \"c:\\Users\\ramkumar\\AppData\\Local\\Programs\\Python\\Python310\\lib\\site-packages\\flask\\app.py\", line 882, in full_dispatch_request\n",
      "    rv = self.handle_user_exception(e)\n",
      "  File \"c:\\Users\\ramkumar\\AppData\\Local\\Programs\\Python\\Python310\\lib\\site-packages\\flask\\app.py\", line 880, in full_dispatch_request\n",
      "    rv = self.dispatch_request()\n",
      "  File \"c:\\Users\\ramkumar\\AppData\\Local\\Programs\\Python\\Python310\\lib\\site-packages\\flask\\app.py\", line 865, in dispatch_request\n",
      "    return self.ensure_sync(self.view_functions[rule.endpoint])(**view_args)  # type: ignore[no-any-return]\n",
      "  File \"C:\\Users\\ramkumar\\AppData\\Local\\Temp\\ipykernel_13116\\952660229.py\", line 8, in get_date\n",
      "    result = subprocess.check_output(['date']).decode('utf-8')\n",
      "  File \"c:\\Users\\ramkumar\\AppData\\Local\\Programs\\Python\\Python310\\lib\\subprocess.py\", line 420, in check_output\n",
      "    return run(*popenargs, stdout=PIPE, timeout=timeout, check=True,\n",
      "  File \"c:\\Users\\ramkumar\\AppData\\Local\\Programs\\Python\\Python310\\lib\\subprocess.py\", line 501, in run\n",
      "    with Popen(*popenargs, **kwargs) as process:\n",
      "  File \"c:\\Users\\ramkumar\\AppData\\Local\\Programs\\Python\\Python310\\lib\\subprocess.py\", line 969, in __init__\n",
      "    self._execute_child(args, executable, preexec_fn, close_fds,\n",
      "  File \"c:\\Users\\ramkumar\\AppData\\Local\\Programs\\Python\\Python310\\lib\\subprocess.py\", line 1438, in _execute_child\n",
      "    hp, ht, pid, tid = _winapi.CreateProcess(executable, args,\n",
      "FileNotFoundError: [WinError 2] The system cannot find the file specified\n",
      "127.0.0.1 - - [25/Sep/2024 19:24:27] \"GET /date HTTP/1.1\" 500 -\n"
     ]
    }
   ],
   "source": [
    "from flask import Flask, jsonify\n",
    "import subprocess\n",
    "\n",
    "app = Flask(__name__)\n",
    "\n",
    "@app.route('/date', methods=['GET'])\n",
    "def get_date():\n",
    "    result = subprocess.check_output(['date']).decode('utf-8')\n",
    "    return jsonify({'date': result.strip()})\n",
    "\n",
    "@app.route('/cal', methods=['GET'])\n",
    "def get_cal():\n",
    "    result = subprocess.check_output(['cal']).decode('utf-8')\n",
    "    return jsonify({'calendar': result.strip()})\n",
    "\n",
    "@app.route('/docker', methods=['GET'])\n",
    "def get_docker():\n",
    "    result = subprocess.check_output(['docker', 'ps']).decode('utf-8')\n",
    "    return jsonify({'docker': result.strip()})\n",
    "\n",
    "@app.route('/cls', methods=['GET'])\n",
    "def get_cls():\n",
    "    result = subprocess.check_output(['cls']).decode('utf-8')\n",
    "    return jsonify({'cls': result.strip()})\n",
    "\n",
    "if __name__ == '__main__':\n",
    "    app.run()"
   ]
  }
 ],
 "metadata": {
  "kernelspec": {
   "display_name": "Python 3",
   "language": "python",
   "name": "python3"
  },
  "language_info": {
   "codemirror_mode": {
    "name": "ipython",
    "version": 3
   },
   "file_extension": ".py",
   "mimetype": "text/x-python",
   "name": "python",
   "nbconvert_exporter": "python",
   "pygments_lexer": "ipython3",
   "version": "3.10.5"
  }
 },
 "nbformat": 4,
 "nbformat_minor": 2
}
