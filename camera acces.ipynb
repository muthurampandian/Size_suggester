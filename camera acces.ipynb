{
 "cells": [
  {
   "cell_type": "code",
   "execution_count": 4,
   "metadata": {},
   "outputs": [],
   "source": [
    "import cv2\n",
    "import numpy as np\n",
    "\n",
    "# Load image\n",
    "image_path = r\"C:\\Users\\ramkumar\\OneDrive - BI Worldwide\\Desktop\\hackthon\\MRP.jpg\"  # Replace with your image path\n",
    "image = cv2.imread(image_path)\n",
    "\n",
    "# Convert to grayscale\n",
    "gray = cv2.cvtColor(image, cv2.COLOR_BGR2GRAY)\n",
    "\n",
    "# Detect circles or squares using HoughCircles or contour detection\n",
    "circles = cv2.HoughCircles(gray, cv2.HOUGH_GRADIENT, dp=1.2, minDist=100, param1=50, param2=30, minRadius=10, maxRadius=20)\n",
    "\n",
    "# Assuming circles are found, extract their coordinates\n",
    "if circles is not None:\n",
    "    circles = np.round(circles[0, :]).astype(\"int\")\n",
    "    for (x, y, r) in circles:\n",
    "        # Draw the circle in the output image\n",
    "        cv2.circle(image, (x, y), r, (0, 255, 0), 4)\n",
    "\n",
    "# Now we have the position of the reference circles/squares\n",
    "\n"
   ]
  },
  {
   "cell_type": "code",
   "execution_count": 12,
   "metadata": {},
   "outputs": [
    {
     "name": "stdout",
     "output_type": "stream",
     "text": [
      "0.006533518573697174\n"
     ]
    }
   ],
   "source": [
    "# Get pixel distance between two reference circles\n",
    "pixel_distance = np.linalg.norm(np.array([ circles]))\n",
    "\n",
    "# Calculate pixel to cm conversion factor\n",
    "cm_per_pixel = 10 / pixel_distance  # Since we know the real-world distance is 10 cm\n",
    "\n",
    "print(cm_per_pixel)\n",
    "\n",
    "# Now detect the object and calculate its size in cm\n"
   ]
  },
  {
   "cell_type": "code",
   "execution_count": 2,
   "metadata": {},
   "outputs": [
    {
     "name": "stdout",
     "output_type": "stream",
     "text": [
      "Camera is now ON\n",
      "Turning off the camera...\n"
     ]
    }
   ],
   "source": [
    "#camera access for laptop \n",
    "\n",
    "import cv2\n",
    "\n",
    "def turn_on_camera():\n",
    "    # Turn on the system camera (open the video capture)\n",
    "    cap = cv2.VideoCapture(0)  # '0' is the default webcam, change it if you have multiple cameras\n",
    "\n",
    "    if not cap.isOpened():\n",
    "        print(\"Error: Camera could not be opened.\")\n",
    "        return None\n",
    "    \n",
    "    print(\"Camera is now ON\")\n",
    "\n",
    "    while True:\n",
    "        ret, frame = cap.read()\n",
    "\n",
    "        if not ret:\n",
    "            print(\"Failed to grab frame\")\n",
    "            break\n",
    "\n",
    "        # Display the camera feed\n",
    "        cv2.imshow('Camera Feed', frame)\n",
    "\n",
    "        # Break the loop if 'q' is pressed\n",
    "        if cv2.waitKey(1) & 0xFF == ord('q'):\n",
    "            print(\"Turning off the camera...\")\n",
    "            break\n",
    "\n",
    "    # Turn off the camera (release the capture)\n",
    "    cap.release()\n",
    "    cv2.destroyAllWindows()\n",
    "\n",
    "def turn_off_camera():\n",
    "    # You can simulate turning off by releasing the camera capture object\n",
    "    print(\"Camera is now OFF\")\n",
    "\n",
    "# Usage\n",
    "turn_on_camera()  # This will turn on the camera and display the feed\n",
    "\n",
    "# You can call `turn_off_camera()` after closing the feed with 'q', but it's not necessary\n"
   ]
  }
 ],
 "metadata": {
  "kernelspec": {
   "display_name": "Python 3",
   "language": "python",
   "name": "python3"
  },
  "language_info": {
   "codemirror_mode": {
    "name": "ipython",
    "version": 3
   },
   "file_extension": ".py",
   "mimetype": "text/x-python",
   "name": "python",
   "nbconvert_exporter": "python",
   "pygments_lexer": "ipython3",
   "version": "3.10.5"
  }
 },
 "nbformat": 4,
 "nbformat_minor": 2
}
